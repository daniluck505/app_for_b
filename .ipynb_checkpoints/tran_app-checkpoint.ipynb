{
 "cells": [
  {
   "cell_type": "code",
   "execution_count": 1,
   "id": "a0b53c90",
   "metadata": {},
   "outputs": [],
   "source": [
    "import pandas as pd\n",
    "import matplotlib.pyplot as plt\n",
    "import seaborn as sns\n",
    "import numpy as np\n",
    "from varname import nameof"
   ]
  },
  {
   "cell_type": "code",
   "execution_count": 2,
   "id": "9f2defe6",
   "metadata": {},
   "outputs": [],
   "source": [
    "# Функции\n",
    "\n",
    "# Надо добавить функцию загрузки и выгрузки таблицы(не забыть про резервную копию) для ручного редактирования\n",
    "\n",
    "def saver(data, name, exel=False):\n",
    "    '''Функция сохранения датафрейма в файл'''\n",
    "    \n",
    "    #df_name = nameof(data) для получения имени переменной\n",
    "    if exel == False:\n",
    "        data.to_csv(name +'.csv')\n",
    "    else:\n",
    "        data.to_excel(name +'.xlsx')\n",
    "               \n",
    "def append_df_person(data):\n",
    "    '''Функция добалвения нового пользователя '''\n",
    "    \n",
    "    # Проверяем имя и фамилию\n",
    "    prov = True\n",
    "    while prov == True:\n",
    "        name = input('Введите имя: ').title()\n",
    "        surname = input('Введите фамилью: ').title()\n",
    "        person_list = list(data[data['name'] == name]['surname'] == surname)\n",
    "        if True not in person_list:\n",
    "            prov = False\n",
    "        if prov == True:\n",
    "            print('Такой пользователь уже существует')\n",
    "    # Проверка пароля\n",
    "    par_prov = True\n",
    "    while par_prov == True:\n",
    "        parol = input('Введите пароль: ')\n",
    "        rep_parol = input('Повторите пароль: ')\n",
    "        if parol == rep_parol:\n",
    "            par_prov = False\n",
    "        else:\n",
    "            print('Пароль не совпла, повторите попытку ')\n",
    "    # Ввод статуса \n",
    "    status = input('Ваша должность: ')\n",
    "    # Создаем нового пользователя \n",
    "    new_row = {'name':name, 'surname':surname, 'parol':parol, 'status':status, 'work_time':0}\n",
    "    data = data.append(new_row, ignore_index=True)\n",
    "    return data\n",
    "\n",
    "# def change_person_data:\n",
    "\n",
    "def append_df_printer(data):\n",
    "    '''Функция добалвения нового заказа '''\n",
    "    \n",
    "    name = input('Введите имя заказа: ')\n",
    "    description = input('Введите описание заказа: ')\n",
    "    \n",
    "    new_row = {'name':name, 'profit':0, 'work_time':0, 'description':description}\n",
    "    data = data.append(new_row, ignore_index=True)\n",
    "    return data\n",
    "\n",
    "def change_df_printer(data):\n",
    "    '''Функция изменения заказа'''\n",
    "    \n",
    "    name = input('Какой заказ хотете изменить? ')\n",
    "    # Здесь должна быть табличка со всеми заказами \n",
    "    "
   ]
  },
  {
   "cell_type": "markdown",
   "id": "0ae8fdd8",
   "metadata": {},
   "source": [
    "### Созадаем БД для пользователей "
   ]
  },
  {
   "cell_type": "code",
   "execution_count": 16,
   "id": "f256149f",
   "metadata": {},
   "outputs": [],
   "source": [
    "df_person = pd.DataFrame(columns=['nickname', 'name', 'surname', 'parol', 'status', 'work_time'])\n",
    "saver(df_person,'df_person')"
   ]
  },
  {
   "cell_type": "code",
   "execution_count": 17,
   "id": "dbdd1b9f",
   "metadata": {},
   "outputs": [
    {
     "name": "stdout",
     "output_type": "stream",
     "text": [
      "Введите имя: Данила\n",
      "Введите фамилью: аа\n",
      "Введите пароль: а\n",
      "Повторите пароль: а\n",
      "Ваша должность: а\n"
     ]
    },
    {
     "data": {
      "text/html": [
       "<div>\n",
       "<style scoped>\n",
       "    .dataframe tbody tr th:only-of-type {\n",
       "        vertical-align: middle;\n",
       "    }\n",
       "\n",
       "    .dataframe tbody tr th {\n",
       "        vertical-align: top;\n",
       "    }\n",
       "\n",
       "    .dataframe thead th {\n",
       "        text-align: right;\n",
       "    }\n",
       "</style>\n",
       "<table border=\"1\" class=\"dataframe\">\n",
       "  <thead>\n",
       "    <tr style=\"text-align: right;\">\n",
       "      <th></th>\n",
       "      <th>nickname</th>\n",
       "      <th>name</th>\n",
       "      <th>surname</th>\n",
       "      <th>parol</th>\n",
       "      <th>status</th>\n",
       "      <th>work_time</th>\n",
       "    </tr>\n",
       "  </thead>\n",
       "  <tbody>\n",
       "    <tr>\n",
       "      <th>0</th>\n",
       "      <td>NaN</td>\n",
       "      <td>Данила</td>\n",
       "      <td>Аа</td>\n",
       "      <td>а</td>\n",
       "      <td>а</td>\n",
       "      <td>0</td>\n",
       "    </tr>\n",
       "  </tbody>\n",
       "</table>\n",
       "</div>"
      ],
      "text/plain": [
       "  nickname    name surname parol status work_time\n",
       "0      NaN  Данила      Аа     а      а         0"
      ]
     },
     "execution_count": 17,
     "metadata": {},
     "output_type": "execute_result"
    }
   ],
   "source": [
    "df_person = append_df_person(df_person)\n",
    "saver(df_person,'df_person')\n",
    "df_person"
   ]
  },
  {
   "cell_type": "markdown",
   "id": "aead0834",
   "metadata": {},
   "source": [
    "### Создаем БД заказов"
   ]
  },
  {
   "cell_type": "code",
   "execution_count": 6,
   "id": "db828952",
   "metadata": {},
   "outputs": [],
   "source": [
    "df_printer = pd.DataFrame(columns=['name','profit', 'work_time', 'description'])\n",
    "saver(df_printer,'df_printer')"
   ]
  },
  {
   "cell_type": "code",
   "execution_count": 7,
   "id": "5ec9c61f",
   "metadata": {},
   "outputs": [
    {
     "name": "stdout",
     "output_type": "stream",
     "text": [
      "Введите имя заказа: Принтер 1\n",
      "Введите описание заказа: то и то\n"
     ]
    }
   ],
   "source": [
    "df_printer = append_df_printer(df_printer)\n",
    "saver(df_printer,'df_printer')"
   ]
  },
  {
   "cell_type": "code",
   "execution_count": 8,
   "id": "07d9efac",
   "metadata": {},
   "outputs": [
    {
     "data": {
      "text/html": [
       "<div>\n",
       "<style scoped>\n",
       "    .dataframe tbody tr th:only-of-type {\n",
       "        vertical-align: middle;\n",
       "    }\n",
       "\n",
       "    .dataframe tbody tr th {\n",
       "        vertical-align: top;\n",
       "    }\n",
       "\n",
       "    .dataframe thead th {\n",
       "        text-align: right;\n",
       "    }\n",
       "</style>\n",
       "<table border=\"1\" class=\"dataframe\">\n",
       "  <thead>\n",
       "    <tr style=\"text-align: right;\">\n",
       "      <th></th>\n",
       "      <th>name</th>\n",
       "      <th>profit</th>\n",
       "      <th>work_time</th>\n",
       "      <th>description</th>\n",
       "    </tr>\n",
       "  </thead>\n",
       "  <tbody>\n",
       "    <tr>\n",
       "      <th>0</th>\n",
       "      <td>Принтер 1</td>\n",
       "      <td>0</td>\n",
       "      <td>0</td>\n",
       "      <td>то и то</td>\n",
       "    </tr>\n",
       "  </tbody>\n",
       "</table>\n",
       "</div>"
      ],
      "text/plain": [
       "        name profit work_time description\n",
       "0  Принтер 1      0         0     то и то"
      ]
     },
     "execution_count": 8,
     "metadata": {},
     "output_type": "execute_result"
    }
   ],
   "source": [
    "df_printer"
   ]
  },
  {
   "cell_type": "code",
   "execution_count": 11,
   "id": "799082c3",
   "metadata": {},
   "outputs": [
    {
     "name": "stdout",
     "output_type": "stream",
     "text": [
      "        name profit work_time description\n",
      "0  Принтер 1      0         0     то и то\n"
     ]
    }
   ],
   "source": [
    "print(df_printer)"
   ]
  },
  {
   "cell_type": "code",
   "execution_count": 25,
   "id": "a464ecf6",
   "metadata": {},
   "outputs": [
    {
     "data": {
      "text/plain": [
       "['Данила']"
      ]
     },
     "execution_count": 25,
     "metadata": {},
     "output_type": "execute_result"
    }
   ],
   "source": [
    "list(df_person['name'])"
   ]
  },
  {
   "cell_type": "code",
   "execution_count": 28,
   "id": "8b64e5b4",
   "metadata": {},
   "outputs": [
    {
     "data": {
      "text/plain": [
       "Series([], Name: parol, dtype: object)"
      ]
     },
     "execution_count": 28,
     "metadata": {},
     "output_type": "execute_result"
    }
   ],
   "source": [
    "df_person[df_person['nickname'] == 'name']['parol']"
   ]
  },
  {
   "cell_type": "code",
   "execution_count": 29,
   "id": "7f3fbaec",
   "metadata": {},
   "outputs": [
    {
     "data": {
      "text/html": [
       "<div>\n",
       "<style scoped>\n",
       "    .dataframe tbody tr th:only-of-type {\n",
       "        vertical-align: middle;\n",
       "    }\n",
       "\n",
       "    .dataframe tbody tr th {\n",
       "        vertical-align: top;\n",
       "    }\n",
       "\n",
       "    .dataframe thead th {\n",
       "        text-align: right;\n",
       "    }\n",
       "</style>\n",
       "<table border=\"1\" class=\"dataframe\">\n",
       "  <thead>\n",
       "    <tr style=\"text-align: right;\">\n",
       "      <th></th>\n",
       "      <th>nickname</th>\n",
       "      <th>name</th>\n",
       "      <th>surname</th>\n",
       "      <th>parol</th>\n",
       "      <th>status</th>\n",
       "      <th>work_time</th>\n",
       "    </tr>\n",
       "  </thead>\n",
       "  <tbody>\n",
       "    <tr>\n",
       "      <th>0</th>\n",
       "      <td>NaN</td>\n",
       "      <td>Данила</td>\n",
       "      <td>Аа</td>\n",
       "      <td>а</td>\n",
       "      <td>а</td>\n",
       "      <td>0</td>\n",
       "    </tr>\n",
       "  </tbody>\n",
       "</table>\n",
       "</div>"
      ],
      "text/plain": [
       "  nickname    name surname parol status work_time\n",
       "0      NaN  Данила      Аа     а      а         0"
      ]
     },
     "execution_count": 29,
     "metadata": {},
     "output_type": "execute_result"
    }
   ],
   "source": [
    "df_person"
   ]
  },
  {
   "cell_type": "code",
   "execution_count": null,
   "id": "828d9d6b",
   "metadata": {},
   "outputs": [],
   "source": []
  }
 ],
 "metadata": {
  "kernelspec": {
   "display_name": "Python 3 (ipykernel)",
   "language": "python",
   "name": "python3"
  },
  "language_info": {
   "codemirror_mode": {
    "name": "ipython",
    "version": 3
   },
   "file_extension": ".py",
   "mimetype": "text/x-python",
   "name": "python",
   "nbconvert_exporter": "python",
   "pygments_lexer": "ipython3",
   "version": "3.9.7"
  }
 },
 "nbformat": 4,
 "nbformat_minor": 5
}
